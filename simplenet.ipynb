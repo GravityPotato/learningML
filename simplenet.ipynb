{
  "nbformat": 4,
  "nbformat_minor": 0,
  "metadata": {
    "colab": {
      "name": "simplenet.ipynb",
      "version": "0.3.2",
      "provenance": [],
      "collapsed_sections": []
    },
    "kernelspec": {
      "name": "python3",
      "display_name": "Python 3"
    }
  },
  "cells": [
    {
      "cell_type": "markdown",
      "metadata": {
        "id": "view-in-github",
        "colab_type": "text"
      },
      "source": [
        "[View in Colaboratory](https://colab.research.google.com/github/GravityPotato/learningML/blob/master/simplenet.ipynb)"
      ]
    },
    {
      "metadata": {
        "id": "A2XxnYhqlcHM",
        "colab_type": "code",
        "colab": {}
      },
      "cell_type": "code",
      "source": [
        "import numpy as np"
      ],
      "execution_count": 0,
      "outputs": []
    },
    {
      "metadata": {
        "id": "EXPIwH1jnkvk",
        "colab_type": "code",
        "colab": {}
      },
      "cell_type": "code",
      "source": [
        "class NeuralNetwork():\n",
        "    def __init__(self):\n",
        "        # Seed the random number generator, so it generates the same numbers\n",
        "        # every time the program runs.\n",
        "        np.random.seed(1)\n",
        "\n",
        "        # We model a single neuron, with 3 input connections and 1 output connection.\n",
        "        # We assign random weights to a 3 x 1 matrix, with values in the range -1 to 1\n",
        "        # and mean 0.\n",
        "        self.synaptic_weights = 2 * np.random.random((3, 1)) - 1\n",
        "\n",
        "    # The Sigmoid function, which describes an S shaped curve.\n",
        "    # We pass the weighted sum of the inputs through this function to\n",
        "    # normalise them between 0 and 1.\n",
        "    def __sigmoid(self, x):\n",
        "        return 1 / (1 + np.exp(-x))\n",
        "\n",
        "    # The derivative of the Sigmoid function.\n",
        "    # This is the gradient of the Sigmoid curve.\n",
        "    # It indicates how confident we are about the existing weight.\n",
        "    def __sigmoid_derivative(self, x):\n",
        "        return x * (1 - x)\n",
        "\n",
        "    # We train the neural network through a process of trial and error.\n",
        "    # Adjusting the synaptic weights each time.\n",
        "    def train(self, training_set_inputs, training_set_outputs, number_of_training_iterations):\n",
        "        for iteration in range(number_of_training_iterations):\n",
        "            # Pass the training set through our neural network (a single neuron).\n",
        "            output = self.think(training_set_inputs)\n",
        "\n",
        "            # Calculate the error (The difference between the desired output\n",
        "            # and the predicted output).\n",
        "            error = training_set_outputs - output\n",
        "\n",
        "            # Multiply the error by the input and again by the gradient of the Sigmoid curve.\n",
        "            # This means less confident weights are adjusted more.\n",
        "            # This means inputs, which are zero, do not cause changes to the weights.\n",
        "            adjustment = np.dot(training_set_inputs.T, error * self.__sigmoid_derivative(output))\n",
        "\n",
        "            # Adjust the weights.\n",
        "            self.synaptic_weights += adjustment\n",
        "\n",
        "    # The neural network thinks.\n",
        "    def think(self, inputs):\n",
        "        # Pass inputs through our neural network (our single neuron).\n",
        "        return self.__sigmoid(np.dot(inputs, self.synaptic_weights))\n"
      ],
      "execution_count": 0,
      "outputs": []
    },
    {
      "metadata": {
        "id": "CvhMP-AJn73F",
        "colab_type": "code",
        "colab": {
          "base_uri": "https://localhost:8080/",
          "height": 187
        },
        "outputId": "a80ea169-82f8-4839-ddf5-dd912ed0f769"
      },
      "cell_type": "code",
      "source": [
        "if __name__ == \"__main__\":\n",
        "\n",
        "    #Intialise a single neuron neural network.\n",
        "    neural_network = NeuralNetwork()\n",
        "\n",
        "    print (\"Random starting synaptic weights: \")\n",
        "    print (neural_network.synaptic_weights)\n",
        "\n",
        "    # The training set. We have 4 examples, each consisting of 3 input values\n",
        "    # and 1 output value.\n",
        "    training_set_inputs = np.array([[0, 0, 1], [1, 1, 1], [1, 0, 1], [0, 1, 1]])\n",
        "    training_set_outputs = np.array([[0, 1, 1, 0]]).T\n",
        "\n",
        "    # Train the neural network using a training set.\n",
        "    # Do it 10,000 times and make small adjustments each time.\n",
        "    neural_network.train(training_set_inputs, training_set_outputs, 10000)\n",
        "\n",
        "    print (\"New synaptic weights after training: \")\n",
        "    print (neural_network.synaptic_weights)\n",
        "\n",
        "    # Test the neural network with a new situation.\n",
        "    print (\"Considering new situation [1, 0, 0] -> ?: \")\n",
        "    print (neural_network.think(np.array([1, 0, 0])))"
      ],
      "execution_count": 31,
      "outputs": [
        {
          "output_type": "stream",
          "text": [
            "Random starting synaptic weights: \n",
            "[[-0.16595599]\n",
            " [ 0.44064899]\n",
            " [-0.99977125]]\n",
            "New synaptic weights after training: \n",
            "[[ 9.67299303]\n",
            " [-0.2078435 ]\n",
            " [-4.62963669]]\n",
            "Considering new situation [1, 0, 0] -> ?: \n",
            "[0.99993704]\n"
          ],
          "name": "stdout"
        }
      ]
    },
    {
      "metadata": {
        "id": "obeAzXBYoBNt",
        "colab_type": "code",
        "colab": {}
      },
      "cell_type": "code",
      "source": [
        ""
      ],
      "execution_count": 0,
      "outputs": []
    }
  ]
}